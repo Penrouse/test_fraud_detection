{
 "cells": [
  {
   "cell_type": "code",
   "execution_count": 2,
   "id": "95547855",
   "metadata": {},
   "outputs": [],
   "source": [
    "# Agregar la carpeta raíz del proyecto al path\n",
    "import os\n",
    "import sys\n",
    "project_root = os.path.abspath(\"..\")\n",
    "sys.path.append(project_root)"
   ]
  },
  {
   "cell_type": "code",
   "execution_count": 7,
   "id": "f0186f60",
   "metadata": {},
   "outputs": [
    {
     "name": "stdout",
     "output_type": "stream",
     "text": [
      "d:\\PruebasDS\\CrediBanco\n"
     ]
    }
   ],
   "source": [
    "print(project_root)"
   ]
  },
  {
   "cell_type": "code",
   "execution_count": 5,
   "id": "890a0820",
   "metadata": {},
   "outputs": [],
   "source": [
    "import pandas as pd\n",
    "import msoffcrypto\n",
    "import pandas as pd\n",
    "import io\n",
    "import os\n",
    "from dotenv import load_dotenv"
   ]
  },
  {
   "cell_type": "code",
   "execution_count": 11,
   "id": "6f2ca22d",
   "metadata": {},
   "outputs": [
    {
     "name": "stdout",
     "output_type": "stream",
     "text": [
      "d:\\PruebasDS\\CrediBanco\\data\\Transacciones_Prueba_Especialista_Prevencion_Fraude.xlsx\n",
      "         UTRNNO            HPAN            FECHA_TRX            HORA_TRX  \\\n",
      "0  145736384287  93549332211627  2024-07-01 00:00:00 2024-07-01 08:12:00   \n",
      "1  145736384281  84409332211536  2024-07-01 00:00:00 2024-07-01 18:47:00   \n",
      "2  145736384252  84400332211005  2024-07-01 00:00:00 2024-07-01 02:05:00   \n",
      "3  145736384246  93526332211167  2024-07-01 00:00:00 2024-07-01 13:51:00   \n",
      "4  145736384197  93530332211347  2024-07-01 00:00:00 2024-07-01 15:47:00   \n",
      "\n",
      "  COUNTRY_CODE  TERM_TYPE    AMOUNT_1 CUR_CODE BIN_CURRENCY     MCC  ...  \\\n",
      "0           CO        8.0  19429000.0      170          170  4511.0  ...   \n",
      "1           CO        8.0   2050000.0      170          170  5818.0  ...   \n",
      "2           CO        2.0       100.0      170          170  9399.0  ...   \n",
      "3           CO        2.0  15290000.0      170          170  5813.0  ...   \n",
      "4           CO        2.0  31201500.0      170          170  5541.0  ...   \n",
      "\n",
      "   AUTH_SOURCE  FRANQUICIA  POS_ENTRY_MODE  ORIGEN_EMISOR FM_NETWORK  \\\n",
      "0         CBCO  MarterCard            81.0       Nacional      Red_1   \n",
      "1      Network        Visa            10.0       Nacional      Red_2   \n",
      "2         CBCO        Visa             2.0       Nacional      Red_1   \n",
      "3         CBCO  MarterCard             7.0       Nacional      Red_1   \n",
      "4         CBCO  MarterCard             5.0       Nacional      Red_1   \n",
      "\n",
      "   AMOUNT_COL  BANCO_ADQUIRENTE     AMBIENTE BANCO_EMISOR  IS_FRAUD  \n",
      "0  19429000.0           Banco 6  No Presente          NaN       0.0  \n",
      "1   2050000.0           Banco 3  No Presente          NaN       0.0  \n",
      "2       100.0           Banco 2     Presente          NaN       0.0  \n",
      "3  15290000.0           Banco 7     Presente          NaN       0.0  \n",
      "4  31201500.0           Banco 1     Presente          NaN       0.0  \n",
      "\n",
      "[5 rows x 106 columns]\n",
      "       VARIABLE                            DESCRIPCIÓN\n",
      "0        UTRNNO  Identificación de transacción interna\n",
      "1          HPAN                   Número de la tarjeta\n",
      "2     FECHA_TRX                Fecha de la transacción\n",
      "3      HORA_TRX                 Hora de la transacción\n",
      "4  COUNTRY_CODE      Código del país de la transacción\n"
     ]
    }
   ],
   "source": [
    "# Cargar variables del archivo .env\n",
    "load_dotenv()\n",
    "contrasena = os.getenv(\"EXCEL_PASSWORD\")\n",
    "\n",
    "# Ruta al archivo Excel protegido\n",
    "ruta_archivo = os.path.join(project_root,'data','Transacciones_Prueba_Especialista_Prevencion_Fraude.xlsx')\n",
    "print(ruta_archivo)\n",
    "\n",
    "# Desencriptar el archivo\n",
    "with open(ruta_archivo, 'rb') as f:\n",
    "    archivo_encriptado = msoffcrypto.OfficeFile(f)\n",
    "    archivo_encriptado.load_key(password=contrasena)\n",
    "    \n",
    "    archivo_desencriptado = io.BytesIO()\n",
    "    archivo_encriptado.decrypt(archivo_desencriptado)\n",
    "\n",
    "# Leer las hojas\n",
    "df_transacciones = pd.read_excel(archivo_desencriptado, sheet_name='Transacciones', engine='openpyxl')\n",
    "archivo_desencriptado.seek(0)\n",
    "df_diccionario = pd.read_excel(archivo_desencriptado, sheet_name='Diccionario', engine='openpyxl')\n",
    "\n",
    "# Mostrar datos\n",
    "print(df_transacciones.head())\n",
    "print(df_diccionario.head())\n"
   ]
  },
  {
   "cell_type": "code",
   "execution_count": null,
   "id": "c92fe9a1",
   "metadata": {},
   "outputs": [],
   "source": []
  }
 ],
 "metadata": {
  "kernelspec": {
   "display_name": ".venv",
   "language": "python",
   "name": "python3"
  },
  "language_info": {
   "codemirror_mode": {
    "name": "ipython",
    "version": 3
   },
   "file_extension": ".py",
   "mimetype": "text/x-python",
   "name": "python",
   "nbconvert_exporter": "python",
   "pygments_lexer": "ipython3",
   "version": "3.11.9"
  }
 },
 "nbformat": 4,
 "nbformat_minor": 5
}
